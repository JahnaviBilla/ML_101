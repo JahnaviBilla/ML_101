{
 "cells": [
  {
   "cell_type": "code",
   "execution_count": 1,
   "id": "cf4b3843",
   "metadata": {},
   "outputs": [],
   "source": [
    "import numpy as np\n",
    "import pandas as pd\n",
    "import matplotlib.pyplot as plt"
   ]
  },
  {
   "cell_type": "code",
   "execution_count": 2,
   "id": "76cf1e11",
   "metadata": {},
   "outputs": [
    {
     "data": {
      "text/html": [
       "<div>\n",
       "<style scoped>\n",
       "    .dataframe tbody tr th:only-of-type {\n",
       "        vertical-align: middle;\n",
       "    }\n",
       "\n",
       "    .dataframe tbody tr th {\n",
       "        vertical-align: top;\n",
       "    }\n",
       "\n",
       "    .dataframe thead th {\n",
       "        text-align: right;\n",
       "    }\n",
       "</style>\n",
       "<table border=\"1\" class=\"dataframe\">\n",
       "  <thead>\n",
       "    <tr style=\"text-align: right;\">\n",
       "      <th></th>\n",
       "      <th>YearsExperience</th>\n",
       "      <th>Salary</th>\n",
       "    </tr>\n",
       "  </thead>\n",
       "  <tbody>\n",
       "    <tr>\n",
       "      <th>0</th>\n",
       "      <td>1.1</td>\n",
       "      <td>39343.0</td>\n",
       "    </tr>\n",
       "    <tr>\n",
       "      <th>1</th>\n",
       "      <td>1.3</td>\n",
       "      <td>46205.0</td>\n",
       "    </tr>\n",
       "    <tr>\n",
       "      <th>2</th>\n",
       "      <td>1.5</td>\n",
       "      <td>37731.0</td>\n",
       "    </tr>\n",
       "    <tr>\n",
       "      <th>3</th>\n",
       "      <td>2.0</td>\n",
       "      <td>43525.0</td>\n",
       "    </tr>\n",
       "    <tr>\n",
       "      <th>4</th>\n",
       "      <td>2.2</td>\n",
       "      <td>39891.0</td>\n",
       "    </tr>\n",
       "  </tbody>\n",
       "</table>\n",
       "</div>"
      ],
      "text/plain": [
       "   YearsExperience   Salary\n",
       "0              1.1  39343.0\n",
       "1              1.3  46205.0\n",
       "2              1.5  37731.0\n",
       "3              2.0  43525.0\n",
       "4              2.2  39891.0"
      ]
     },
     "execution_count": 2,
     "metadata": {},
     "output_type": "execute_result"
    }
   ],
   "source": [
    "salary_df = pd.read_csv('Salary_Data.csv')\n",
    "salary_df.head()"
   ]
  },
  {
   "cell_type": "code",
   "execution_count": 3,
   "id": "d0df6b96",
   "metadata": {},
   "outputs": [
    {
     "data": {
      "text/plain": [
       "(30,)"
      ]
     },
     "execution_count": 3,
     "metadata": {},
     "output_type": "execute_result"
    }
   ],
   "source": [
    "X = salary_df['YearsExperience']\n",
    "X.shape"
   ]
  },
  {
   "cell_type": "code",
   "execution_count": 4,
   "id": "072c1a4f",
   "metadata": {},
   "outputs": [
    {
     "data": {
      "text/plain": [
       "pandas.core.series.Series"
      ]
     },
     "execution_count": 4,
     "metadata": {},
     "output_type": "execute_result"
    }
   ],
   "source": [
    "type(X)"
   ]
  },
  {
   "cell_type": "code",
   "execution_count": 5,
   "id": "c541a9f6",
   "metadata": {},
   "outputs": [
    {
     "data": {
      "text/plain": [
       "(30, 1)"
      ]
     },
     "execution_count": 5,
     "metadata": {},
     "output_type": "execute_result"
    }
   ],
   "source": [
    "X = salary_df['YearsExperience'].values.reshape(-1,1) #reshaping into numpy array of number of observations,column (features)\n",
    "X.shape"
   ]
  },
  {
   "cell_type": "code",
   "execution_count": 6,
   "id": "1fde7528",
   "metadata": {},
   "outputs": [
    {
     "data": {
      "text/plain": [
       "numpy.ndarray"
      ]
     },
     "execution_count": 6,
     "metadata": {},
     "output_type": "execute_result"
    }
   ],
   "source": [
    "type(X)"
   ]
  },
  {
   "cell_type": "code",
   "execution_count": 7,
   "id": "09e7c021",
   "metadata": {},
   "outputs": [
    {
     "name": "stdout",
     "output_type": "stream",
     "text": [
      "'m'=30,'n'=1\n"
     ]
    }
   ],
   "source": [
    "m, n = X.shape\n",
    "print(f\"'m'={m},'n'={n}\") #these are helpful in weight matrix initialization for further processing."
   ]
  },
  {
   "cell_type": "markdown",
   "id": "4add6b60",
   "metadata": {},
   "source": [
    "if input is of size m x n ; (# observations, # input features)\n",
    "Weight matrices should be initialized of size 1 x n ; (# outputs, # inputs features)\n",
    "But we will be initializing weights to n x 1 here since we need to be calculating weights. We will be transposing X itself.\n",
    "Biases is 1 in this case (# outputs)"
   ]
  },
  {
   "cell_type": "code",
   "execution_count": 8,
   "id": "14f271a5",
   "metadata": {},
   "outputs": [],
   "source": [
    "Y = salary_df['Salary'].values.reshape(-1,1) #reshaping into numpy array of 1 column"
   ]
  },
  {
   "cell_type": "code",
   "execution_count": 9,
   "id": "288a05de",
   "metadata": {},
   "outputs": [],
   "source": [
    "# Building a class for linear_regression:\n",
    "\n",
    "class linear_regression():\n",
    "    def __init__ (self, learning_rate,no_of_iterations):\n",
    "        self.learning_rate = learning_rate\n",
    "        self.no_of_iterations = no_of_iterations\n",
    "        \n",
    "    def fit(self, X, Y):\n",
    "        self.m, self.n = X.shape\n",
    "        self.w = np.zeros((self.n, 1)) #forming a tuple of weights, initializing weights to 0\n",
    "        self.b = 0 #initializing biases to 0\n",
    "        self.X = X\n",
    "        self.Y = Y\n",
    "        \n",
    "        for i in range(self.no_of_iterations):\n",
    "            self.update_weights()\n",
    "     \n",
    "    def update_weights(self):\n",
    "        Y_predict = self.predict(self.X)\n",
    "        dw = -2*(self.X.T).dot(self.Y - Y_predict)/self.m #dw = -XT.(y-ypred)/m, this is derivation of loss function(MSE) w.r.to w\n",
    "        db = -2*np.sum(self.Y - Y_predict)/self.m     #db = -(y-ypred)/m, this is derivation of loss function(MSE) w.r.to w\n",
    "        self.w = self.w - self.learning_rate * dw #calculating gradient : optimizing slope in y = b0 + b1x\n",
    "        self.b = self.b - self.learning_rate * db #calculating gradient : optimizing bias/intercept\n",
    "  \n",
    "    def predict(self,X): #this is the transform function\n",
    "        return X.dot(self.w) + self.b #numpy to perform matrix multiplication; this is X * W + b\n",
    "    \n",
    "    def print_weights(self):\n",
    "        print(f\"Weights of the respective features are: {self.w}\")\n",
    "        print(f\"\\n Bias values for the regression is: {self.b}\")\n",
    "    \n",
    "    def return_parameters(self):\n",
    "        return self.w,self.b"
   ]
  },
  {
   "cell_type": "code",
   "execution_count": 10,
   "id": "7f53b0d3",
   "metadata": {},
   "outputs": [],
   "source": [
    "model = linear_regression(learning_rate = 0.015, no_of_iterations = 1000)\n",
    "model.fit(X, Y)"
   ]
  },
  {
   "cell_type": "code",
   "execution_count": 11,
   "id": "750c1fa9",
   "metadata": {},
   "outputs": [
    {
     "name": "stdout",
     "output_type": "stream",
     "text": [
      "Weights of the respective features are: [[9456.05045487]]\n",
      "\n",
      " Bias values for the regression is: 25751.17388345125\n"
     ]
    }
   ],
   "source": [
    "model.print_weights()"
   ]
  },
  {
   "cell_type": "code",
   "execution_count": 12,
   "id": "631e3805",
   "metadata": {},
   "outputs": [],
   "source": [
    "W, B = model.return_parameters()"
   ]
  },
  {
   "cell_type": "code",
   "execution_count": 13,
   "id": "ccc8f662",
   "metadata": {},
   "outputs": [
    {
     "data": {
      "image/png": "[encoded data removed]",
      "text/plain": [
       "<Figure size 640x480 with 1 Axes>"
      ]
     },
     "metadata": {},
     "output_type": "display_data"
    }
   ],
   "source": [
    "plt.scatter(salary_df['YearsExperience'], salary_df['Salary'])\n",
    "plt.xlabel('Years of experience')\n",
    "plt.ylabel('Salary')\n",
    "plt.title('linear regression with fit line')\n",
    "\n",
    "plt.plot(X,X*W+B)\n",
    "plt.show()"
   ]
  },
  {
   "cell_type": "markdown",
   "id": "1665ff24",
   "metadata": {},
   "source": [
    "Note that if you take too high a learning parameter, gradient descient becomes nan values and it never merges, returning a weird graph"
   ]
  }
 ],
 "metadata": {
  "kernelspec": {
   "display_name": "Python 3 (ipykernel)",
   "language": "python",
   "name": "python3"
  },
  "language_info": {
   "codemirror_mode": {
    "name": "ipython",
    "version": 3
   },
   "file_extension": ".py",
   "mimetype": "text/x-python",
   "name": "python",
   "nbconvert_exporter": "python",
   "pygments_lexer": "ipython3",
   "version": "3.9.13"
  }
 },
 "nbformat": 4,
 "nbformat_minor": 5
}
